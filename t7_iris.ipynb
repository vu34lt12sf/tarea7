{
 "cells": [
  {
   "cell_type": "markdown",
   "id": "383f7ee5",
   "metadata": {},
   "source": [
    "<img src=\"https://upload.wikimedia.org/wikipedia/commons/d/de/Logotipo_Ikiam.png\" eidth=8000 heigh=5000 />\n",
    "<center><h1 style=\"color:red; background-color:powderblue;\">TAREA6 - BIOINFORMÁTICA</h1></center>\n",
    "\n",
    "# DATOS DEL ESTUDIANTE\n",
    "### Nombre: \n",
    "Tatiana Shiguango Grefa\n",
    "### Semestre:\n",
    "sexto semestre \n",
    "### Carrera: \n",
    "Ingeniería en Biotecnología\n",
    "\n",
    "# EXPLICACIÓN DE LA TAREA\n",
    "\n",
    "Se cargo la data \"iris.csv\" a python. Se calculo la deviación estandar y la media mediante la función describe y finalmente se grafico la tabla."
   ]
  },
  {
   "cell_type": "code",
   "execution_count": 1,
   "id": "ea54521c",
   "metadata": {},
   "outputs": [],
   "source": [
    "%matplotlib inline"
   ]
  },
  {
   "cell_type": "code",
   "execution_count": 2,
   "id": "fcd6b32b",
   "metadata": {},
   "outputs": [],
   "source": [
    "import numpy as np\n",
    "import matplotlib.pyplot as plt\n",
    "import matplotlib.mlab as mlab\n",
    "import math\n",
    "import seaborn as sns\n",
    "import pandas as pd"
   ]
  },
  {
   "cell_type": "code",
   "execution_count": 23,
   "id": "ce5cc4ae",
   "metadata": {},
   "outputs": [
    {
     "data": {
      "text/html": [
       "<div>\n",
       "<style scoped>\n",
       "    .dataframe tbody tr th:only-of-type {\n",
       "        vertical-align: middle;\n",
       "    }\n",
       "\n",
       "    .dataframe tbody tr th {\n",
       "        vertical-align: top;\n",
       "    }\n",
       "\n",
       "    .dataframe thead th {\n",
       "        text-align: right;\n",
       "    }\n",
       "</style>\n",
       "<table border=\"1\" class=\"dataframe\">\n",
       "  <thead>\n",
       "    <tr style=\"text-align: right;\">\n",
       "      <th></th>\n",
       "      <th>SepalLengthCm</th>\n",
       "      <th>SepalWidthCm</th>\n",
       "      <th>PetalLengthCm</th>\n",
       "      <th>PetalWidthCm</th>\n",
       "    </tr>\n",
       "  </thead>\n",
       "  <tbody>\n",
       "    <tr>\n",
       "      <th>mean</th>\n",
       "      <td>5.843333</td>\n",
       "      <td>3.054000</td>\n",
       "      <td>3.758667</td>\n",
       "      <td>1.198667</td>\n",
       "    </tr>\n",
       "    <tr>\n",
       "      <th>std</th>\n",
       "      <td>0.828066</td>\n",
       "      <td>0.433594</td>\n",
       "      <td>1.764420</td>\n",
       "      <td>0.763161</td>\n",
       "    </tr>\n",
       "  </tbody>\n",
       "</table>\n",
       "</div>"
      ],
      "text/plain": [
       "      SepalLengthCm  SepalWidthCm  PetalLengthCm  PetalWidthCm\n",
       "mean       5.843333      3.054000       3.758667      1.198667\n",
       "std        0.828066      0.433594       1.764420      0.763161"
      ]
     },
     "execution_count": 23,
     "metadata": {},
     "output_type": "execute_result"
    }
   ],
   "source": [
    "iris_data = pd.read_csv(\"iris.csv\") # utilizo el comenando para leer el archivo iris.csv y lo guardo en iris_data\n",
    "iris = iris_data.describe() # se calculo la estdaistica decriptiva\n",
    "iris_sub = iris.iloc[1:3, 1:] # con iloc, se selecciona solo las filas que contite mean y std: y columas de contengan 'SepalLengthCm', 'SepalWidthCm', 'PetalLengthCm', 'PetalWidthCm'. \n",
    "iris_sub  # llamar ala nueva tabla "
   ]
  },
  {
   "cell_type": "code",
   "execution_count": 21,
   "id": "e82a2680",
   "metadata": {},
   "outputs": [
    {
     "data": {
      "image/png": "[encoded data removed]",
      "text/plain": [
       "<Figure size 432x288 with 1 Axes>"
      ]
     },
     "metadata": {
      "needs_background": "light"
     },
     "output_type": "display_data"
    }
   ],
   "source": [
    "# Parameters for normal distributions\n",
    "import scipy.stats as stats\n",
    "params = [(5.84,0.82,'blue'), (3.05, 0.43, 'red'), (3.75, 1.76, 'orange'), (1.19,0.76,'green')]# coloco la media y la desvivion estandar de las columnas \"SepalLengthCm, SepalWidthCm, PetalLengthCm, PetalWidthCm\"\n",
    "\n",
    "for mean, variance, color in params: # se crea un for loop, \n",
    "    x = np.linspace(mean - 3*math.sqrt(variance), mean + 3*math.sqrt(variance), 100)\n",
    "    sigma = math.sqrt(variance)\n",
    "    label = '$\\mu = %.1f, \\ \\sigma^2=%.1f$' %(mean, variance)\n",
    "    y_norm = stats.norm.pdf(x, mean, sigma)\n",
    "    plt.plot(x, y_norm, label=label, c = color) \n",
    "plt.xlim(-5,10) # rango para el eje y\n",
    "plt.ylim(0,1) # rango para el eje x\n",
    "plt.xlabel('X') # nombre del eje x\n",
    "plt.ylabel('$φ_{μ,σ^2}(X)$') # nombre del eje y\n",
    "plt.title('Distribución Normal') # nombre del titulo de la grafica\n",
    "plt.legend(title = \"Parámetros\") # nombre de la leyenda\n",
    "plt.show() # mostrar los cambios"
   ]
  },
  {
   "cell_type": "code",
   "execution_count": null,
   "id": "bcae6ad5",
   "metadata": {},
   "outputs": [],
   "source": []
  },
  {
   "cell_type": "code",
   "execution_count": null,
   "id": "489bf6f3",
   "metadata": {},
   "outputs": [],
   "source": []
  }
 ],
 "metadata": {
  "kernelspec": {
   "display_name": "Python 3 (ipykernel)",
   "language": "python",
   "name": "python3"
  },
  "language_info": {
   "codemirror_mode": {
    "name": "ipython",
    "version": 3
   },
   "file_extension": ".py",
   "mimetype": "text/x-python",
   "name": "python",
   "nbconvert_exporter": "python",
   "pygments_lexer": "ipython3",
   "version": "3.9.12"
  }
 },
 "nbformat": 4,
 "nbformat_minor": 5
}
